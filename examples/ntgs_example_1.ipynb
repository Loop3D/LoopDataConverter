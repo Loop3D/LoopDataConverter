{
 "cells": [
  {
   "cell_type": "code",
   "execution_count": 1,
   "id": "initial_id",
   "metadata": {
    "ExecuteTime": {
     "end_time": "2024-08-19T03:02:27.461912Z",
     "start_time": "2024-08-19T03:02:26.965347Z"
    },
    "collapsed": true
   },
   "outputs": [],
   "source": [
    "from LoopDataConverter import LoopConverter, InputData, SurveyName\n",
    "from osgeo import gdal, osr\n",
    "import os "
   ]
  },
  {
   "cell_type": "code",
   "execution_count": 2,
   "id": "eec0e1145cd2b0c6",
   "metadata": {
    "ExecuteTime": {
     "end_time": "2024-08-19T03:02:28.693245Z",
     "start_time": "2024-08-19T03:02:28.690216Z"
    },
    "collapsed": false
   },
   "outputs": [],
   "source": [
    "def create_raster(output_path, bbox, epsg, pixel_size, value=100):\n",
    "    minx, miny, maxx, maxy = bbox\n",
    "    cols = int((maxx - minx) / pixel_size)\n",
    "    rows = int((maxy - miny) / pixel_size)\n",
    "    driver = gdal.GetDriverByName('GTiff')\n",
    "    out_raster = driver.Create(output_path, cols, rows, 1, gdal.GDT_Byte)\n",
    "    out_raster.SetGeoTransform([minx, pixel_size, 0, maxy, 0, -pixel_size])\n",
    "    srs = osr.SpatialReference()\n",
    "    srs.ImportFromEPSG(epsg)\n",
    "    out_raster.SetProjection(srs.ExportToWkt())\n",
    "    out_band = out_raster.GetRasterBand(1)\n",
    "    out_band.Fill(value)\n",
    "    out_band.FlushCache()\n",
    "    out_raster = None"
   ]
  },
  {
   "cell_type": "code",
   "execution_count": 3,
   "id": "6c2b286bc1702936",
   "metadata": {
    "ExecuteTime": {
     "end_time": "2024-08-19T03:02:28.938398Z",
     "start_time": "2024-08-19T03:02:28.913523Z"
    },
    "collapsed": false
   },
   "outputs": [],
   "source": [
    "xmin, ymax = 449200.89,7322334.93\n",
    "xmax, ymin = 463912.6,7315529.2\n",
    "zmin, zmax = -3000, 3000\n",
    "bounding_box = {\n",
    "    \"minx\": xmin,\n",
    "    \"miny\": ymin,\n",
    "    \"maxx\": xmax,\n",
    "    \"maxy\": ymax,\n",
    "    \"base\": zmin,\n",
    "    \"top\": zmax,\n",
    "}\n",
    "f_path = \"/home/rabii/Git_Repos/LoopDataConverter/test_data/NTGS_data\"\n",
    "create_raster(\n",
    "    os.path.join(f_path, \"DEM.tif\"),\n",
    "    (bounding_box['minx'], bounding_box['miny'], bounding_box['maxx'], bounding_box['maxy']),\n",
    "    7854,\n",
    "    1000,\n",
    ")"
   ]
  },
  {
   "cell_type": "code",
   "execution_count": 2,
   "id": "bce3f41a5466f26e",
   "metadata": {
    "ExecuteTime": {
     "end_time": "2024-08-14T01:53:48.956338Z",
     "start_time": "2024-08-14T01:53:48.953104Z"
    },
    "collapsed": false
   },
   "outputs": [],
   "source": [
    "xmin, ymax = 449200.89,7322334.93\n",
    "xmax, ymin = 463912.6,7315529.2\n",
    "zmin, zmax = -3000, 3000\n",
    "bbox_3d = {\n",
    "    \"minx\": xmin,\n",
    "    \"miny\": ymin,\n",
    "    \"maxx\": xmax,\n",
    "    \"maxy\": ymax,\n",
    "    \"base\": zmin,\n",
    "    \"top\": zmax,\n",
    "}\n",
    "\n",
    "xmin, ymax = -24.210915,134.499656\n",
    "xmax, ymin = -24.272464,134.644287\n",
    "zmin, zmax = -3000, 3000\n",
    "bbox_3d = {\n",
    "    \"minx\": xmin,\n",
    "    \"miny\": ymin,\n",
    "    \"maxx\": xmax,\n",
    "    \"maxy\": ymax,\n",
    "    \"base\": zmin,\n",
    "    \"top\": zmax,\n",
    "}"
   ]
  },
  {
   "cell_type": "code",
   "execution_count": 5,
   "id": "2cefe141abea8187",
   "metadata": {
    "ExecuteTime": {
     "end_time": "2024-08-19T03:03:36.542534Z",
     "start_time": "2024-08-19T03:03:36.482801Z"
    },
    "collapsed": false
   },
   "outputs": [
    {
     "ename": "DriverError",
     "evalue": "LoopDataConverter/test_data/NTGS_data/NAM_LithOutcrop_100K.shp: No such file or directory",
     "output_type": "error",
     "traceback": [
      "\u001b[0;31m---------------------------------------------------------------------------\u001b[0m",
      "\u001b[0;31mCPLE_OpenFailedError\u001b[0m                      Traceback (most recent call last)",
      "File \u001b[0;32mfiona/ogrext.pyx:136\u001b[0m, in \u001b[0;36mfiona.ogrext.gdal_open_vector\u001b[0;34m()\u001b[0m\n",
      "File \u001b[0;32mfiona/_err.pyx:291\u001b[0m, in \u001b[0;36mfiona._err.exc_wrap_pointer\u001b[0;34m()\u001b[0m\n",
      "\u001b[0;31mCPLE_OpenFailedError\u001b[0m: LoopDataConverter/test_data/NTGS_data/NAM_LithOutcrop_100K.shp: No such file or directory",
      "\nDuring handling of the above exception, another exception occurred:\n",
      "\u001b[0;31mDriverError\u001b[0m                               Traceback (most recent call last)",
      "Cell \u001b[0;32mIn[5], line 8\u001b[0m\n\u001b[1;32m      1\u001b[0m input_data \u001b[38;5;241m=\u001b[39m InputData(GEOLOGY\u001b[38;5;241m=\u001b[39m\u001b[38;5;124m\"\u001b[39m\u001b[38;5;124mLoopDataConverter/test_data/NTGS_data/NAM_LithOutcrop_100K.shp\u001b[39m\u001b[38;5;124m\"\u001b[39m, \n\u001b[1;32m      2\u001b[0m                        STRUCTURE\u001b[38;5;241m=\u001b[39m\u001b[38;5;124m\"\u001b[39m\u001b[38;5;124mtest_data/NTGS_data/NAM_StructData_100K.shp\u001b[39m\u001b[38;5;124m\"\u001b[39m,\n\u001b[1;32m      3\u001b[0m                        FAULT\u001b[38;5;241m=\u001b[39m\u001b[38;5;124m\"\u001b[39m\u001b[38;5;124mtest_data/NTGS_data/NAM_Fault_100K.shp\u001b[39m\u001b[38;5;124m\"\u001b[39m,\n\u001b[1;32m      4\u001b[0m                        FOLD\u001b[38;5;241m=\u001b[39m\u001b[38;5;124m\"\u001b[39m\u001b[38;5;124mtest_data/NTGS_data/NAM_Fold_100K.shp\u001b[39m\u001b[38;5;124m\"\u001b[39m)\n\u001b[1;32m      6\u001b[0m loop_converter \u001b[38;5;241m=\u001b[39m LoopConverter(survey_name\u001b[38;5;241m=\u001b[39mSurveyName\u001b[38;5;241m.\u001b[39mNTGS,\n\u001b[1;32m      7\u001b[0m                                data\u001b[38;5;241m=\u001b[39minput_data)\n\u001b[0;32m----> 8\u001b[0m \u001b[43mloop_converter\u001b[49m\u001b[38;5;241;43m.\u001b[39;49m\u001b[43mconvert\u001b[49m\u001b[43m(\u001b[49m\u001b[43m)\u001b[49m\n",
      "File \u001b[0;32m~/Git_Repos/LoopDataConverter/LoopDataConverter/converters/loop_converter.py:72\u001b[0m, in \u001b[0;36mLoopConverter.convert\u001b[0;34m(self)\u001b[0m\n\u001b[1;32m     66\u001b[0m \u001b[38;5;28;01mdef\u001b[39;00m \u001b[38;5;21mconvert\u001b[39m(\u001b[38;5;28mself\u001b[39m):\n\u001b[1;32m     67\u001b[0m \u001b[38;5;250m    \u001b[39m\u001b[38;5;124;03m'''\u001b[39;00m\n\u001b[1;32m     68\u001b[0m \u001b[38;5;124;03m    This function reads data from a file, uses a converter to process the data, and stores the\u001b[39;00m\n\u001b[1;32m     69\u001b[0m \u001b[38;5;124;03m    converted data in the object's data attribute.\u001b[39;00m\n\u001b[1;32m     70\u001b[0m \n\u001b[1;32m     71\u001b[0m \u001b[38;5;124;03m    '''\u001b[39;00m\n\u001b[0;32m---> 72\u001b[0m     data \u001b[38;5;241m=\u001b[39m \u001b[38;5;28;43mself\u001b[39;49m\u001b[38;5;241;43m.\u001b[39;49m\u001b[43mread_file\u001b[49m\u001b[43m(\u001b[49m\u001b[43m)\u001b[49m\n\u001b[1;32m     73\u001b[0m     converter \u001b[38;5;241m=\u001b[39m \u001b[38;5;28mself\u001b[39m\u001b[38;5;241m.\u001b[39mget_converter()\n\u001b[1;32m     74\u001b[0m     converter(data)\n",
      "File \u001b[0;32m~/Git_Repos/LoopDataConverter/LoopDataConverter/converters/loop_converter.py:51\u001b[0m, in \u001b[0;36mLoopConverter.read_file\u001b[0;34m(self)\u001b[0m\n\u001b[1;32m     47\u001b[0m \u001b[38;5;28;01mdef\u001b[39;00m \u001b[38;5;21mread_file\u001b[39m(\u001b[38;5;28mself\u001b[39m):\n\u001b[1;32m     48\u001b[0m \u001b[38;5;250m    \u001b[39m\u001b[38;5;124;03m\"\"\"\u001b[39;00m\n\u001b[1;32m     49\u001b[0m \u001b[38;5;124;03m    read the file using the correct file reader\u001b[39;00m\n\u001b[1;32m     50\u001b[0m \u001b[38;5;124;03m    \"\"\"\u001b[39;00m\n\u001b[0;32m---> 51\u001b[0m     file_reader \u001b[38;5;241m=\u001b[39m \u001b[43mLoopGisReader\u001b[49m\u001b[43m(\u001b[49m\u001b[38;5;28;43mself\u001b[39;49m\u001b[38;5;241;43m.\u001b[39;49m\u001b[43m_fileData\u001b[49m\u001b[43m)\u001b[49m\u001b[43m(\u001b[49m\u001b[43m)\u001b[49m\n\u001b[1;32m     52\u001b[0m     \u001b[38;5;28;01mreturn\u001b[39;00m file_reader\u001b[38;5;241m.\u001b[39mdata\n",
      "File \u001b[0;32m~/Git_Repos/LoopDataConverter/LoopDataConverter/file_readers/_file_readers.py:152\u001b[0m, in \u001b[0;36mLoopGisReader.__call__\u001b[0;34m(self)\u001b[0m\n\u001b[1;32m    147\u001b[0m \u001b[38;5;250m\u001b[39m\u001b[38;5;124;03m\"\"\"\u001b[39;00m\n\u001b[1;32m    148\u001b[0m \u001b[38;5;124;03mRead all files in the input data\u001b[39;00m\n\u001b[1;32m    149\u001b[0m \u001b[38;5;124;03m\"\"\"\u001b[39;00m\n\u001b[1;32m    151\u001b[0m \u001b[38;5;28;01mif\u001b[39;00m \u001b[38;5;28mself\u001b[39m\u001b[38;5;241m.\u001b[39m_fileData[Datatype\u001b[38;5;241m.\u001b[39mGEOLOGY] \u001b[38;5;129;01mis\u001b[39;00m \u001b[38;5;129;01mnot\u001b[39;00m \u001b[38;5;28;01mNone\u001b[39;00m:\n\u001b[0;32m--> 152\u001b[0m     \u001b[38;5;28mself\u001b[39m\u001b[38;5;241m.\u001b[39m_data[Datatype\u001b[38;5;241m.\u001b[39mGEOLOGY] \u001b[38;5;241m=\u001b[39m \u001b[38;5;28;43mself\u001b[39;49m\u001b[38;5;241;43m.\u001b[39;49m\u001b[43mread\u001b[49m\u001b[43m(\u001b[49m\u001b[43mDatatype\u001b[49m\u001b[38;5;241;43m.\u001b[39;49m\u001b[43mGEOLOGY\u001b[49m\u001b[43m)\u001b[49m\n\u001b[1;32m    154\u001b[0m \u001b[38;5;28;01mif\u001b[39;00m \u001b[38;5;28mself\u001b[39m\u001b[38;5;241m.\u001b[39m_fileData[Datatype\u001b[38;5;241m.\u001b[39mSTRUCTURE] \u001b[38;5;129;01mis\u001b[39;00m \u001b[38;5;129;01mnot\u001b[39;00m \u001b[38;5;28;01mNone\u001b[39;00m:\n\u001b[1;32m    155\u001b[0m     \u001b[38;5;28mself\u001b[39m\u001b[38;5;241m.\u001b[39m_data[Datatype\u001b[38;5;241m.\u001b[39mSTRUCTURE] \u001b[38;5;241m=\u001b[39m \u001b[38;5;28mself\u001b[39m\u001b[38;5;241m.\u001b[39mread(Datatype\u001b[38;5;241m.\u001b[39mSTRUCTURE)\n",
      "File \u001b[0;32m~/Git_Repos/LoopDataConverter/LoopDataConverter/file_readers/_file_readers.py:142\u001b[0m, in \u001b[0;36mLoopGisReader.read\u001b[0;34m(self, datatype)\u001b[0m\n\u001b[1;32m    140\u001b[0m \u001b[38;5;28mself\u001b[39m\u001b[38;5;241m.\u001b[39m_reader[datatype] \u001b[38;5;241m=\u001b[39m \u001b[38;5;28mself\u001b[39m\u001b[38;5;241m.\u001b[39massign_reader(\u001b[38;5;28mself\u001b[39m\u001b[38;5;241m.\u001b[39m_fileData[datatype])\n\u001b[1;32m    141\u001b[0m \u001b[38;5;28mself\u001b[39m\u001b[38;5;241m.\u001b[39mfile_reader_label[datatype] \u001b[38;5;241m=\u001b[39m \u001b[38;5;28mself\u001b[39m\u001b[38;5;241m.\u001b[39m_reader[datatype]\u001b[38;5;241m.\u001b[39mtype()\n\u001b[0;32m--> 142\u001b[0m \u001b[38;5;28;43mself\u001b[39;49m\u001b[38;5;241;43m.\u001b[39;49m\u001b[43m_reader\u001b[49m\u001b[43m[\u001b[49m\u001b[43mdatatype\u001b[49m\u001b[43m]\u001b[49m\u001b[38;5;241;43m.\u001b[39;49m\u001b[43mget_file\u001b[49m\u001b[43m(\u001b[49m\u001b[38;5;28;43mself\u001b[39;49m\u001b[38;5;241;43m.\u001b[39;49m\u001b[43m_fileData\u001b[49m\u001b[43m[\u001b[49m\u001b[43mdatatype\u001b[49m\u001b[43m]\u001b[49m\u001b[43m,\u001b[49m\u001b[43m \u001b[49m\u001b[38;5;28;43mself\u001b[39;49m\u001b[38;5;241;43m.\u001b[39;49m\u001b[43m_layer\u001b[49m\u001b[43m)\u001b[49m\n\u001b[1;32m    144\u001b[0m \u001b[38;5;28;01mreturn\u001b[39;00m \u001b[38;5;28mself\u001b[39m\u001b[38;5;241m.\u001b[39m_reader\u001b[38;5;241m.\u001b[39mdata\n",
      "File \u001b[0;32m~/Git_Repos/LoopDataConverter/LoopDataConverter/file_readers/_file_readers.py:85\u001b[0m, in \u001b[0;36mGeoDataFileReader.get_file\u001b[0;34m(self, file_source, layer)\u001b[0m\n\u001b[1;32m     82\u001b[0m file_extension \u001b[38;5;241m=\u001b[39m os\u001b[38;5;241m.\u001b[39mpath\u001b[38;5;241m.\u001b[39msplitext(file_source)[\u001b[38;5;241m1\u001b[39m]\n\u001b[1;32m     84\u001b[0m \u001b[38;5;28;01mif\u001b[39;00m file_extension \u001b[38;5;129;01min\u001b[39;00m [\u001b[38;5;124m\"\u001b[39m\u001b[38;5;124m.shp\u001b[39m\u001b[38;5;124m\"\u001b[39m, \u001b[38;5;124m\"\u001b[39m\u001b[38;5;124m.geojson\u001b[39m\u001b[38;5;124m\"\u001b[39m]:\n\u001b[0;32m---> 85\u001b[0m     \u001b[38;5;28;01mreturn\u001b[39;00m \u001b[43mgeopandas\u001b[49m\u001b[38;5;241;43m.\u001b[39;49m\u001b[43mread_file\u001b[49m\u001b[43m(\u001b[49m\u001b[43mfile_source\u001b[49m\u001b[43m)\u001b[49m\n\u001b[1;32m     87\u001b[0m \u001b[38;5;28;01melif\u001b[39;00m file_extension \u001b[38;5;241m==\u001b[39m \u001b[38;5;124m\"\u001b[39m\u001b[38;5;124m.gpkg\u001b[39m\u001b[38;5;124m\"\u001b[39m:\n\u001b[1;32m     88\u001b[0m     \u001b[38;5;28;01massert\u001b[39;00m layer \u001b[38;5;129;01mis\u001b[39;00m \u001b[38;5;129;01mnot\u001b[39;00m \u001b[38;5;28;01mNone\u001b[39;00m, \u001b[38;5;124m\"\u001b[39m\u001b[38;5;124mLayer name must be provided for GeoPackage files\u001b[39m\u001b[38;5;124m\"\u001b[39m\n",
      "File \u001b[0;32m~/Git_Repos/.conda/lib/python3.11/site-packages/geopandas/io/file.py:289\u001b[0m, in \u001b[0;36m_read_file\u001b[0;34m(filename, bbox, mask, rows, engine, **kwargs)\u001b[0m\n\u001b[1;32m    286\u001b[0m     \u001b[38;5;28;01melse\u001b[39;00m:\n\u001b[1;32m    287\u001b[0m         path_or_bytes \u001b[38;5;241m=\u001b[39m filename\n\u001b[0;32m--> 289\u001b[0m     \u001b[38;5;28;01mreturn\u001b[39;00m \u001b[43m_read_file_fiona\u001b[49m\u001b[43m(\u001b[49m\n\u001b[1;32m    290\u001b[0m \u001b[43m        \u001b[49m\u001b[43mpath_or_bytes\u001b[49m\u001b[43m,\u001b[49m\u001b[43m \u001b[49m\u001b[43mfrom_bytes\u001b[49m\u001b[43m,\u001b[49m\u001b[43m \u001b[49m\u001b[43mbbox\u001b[49m\u001b[38;5;241;43m=\u001b[39;49m\u001b[43mbbox\u001b[49m\u001b[43m,\u001b[49m\u001b[43m \u001b[49m\u001b[43mmask\u001b[49m\u001b[38;5;241;43m=\u001b[39;49m\u001b[43mmask\u001b[49m\u001b[43m,\u001b[49m\u001b[43m \u001b[49m\u001b[43mrows\u001b[49m\u001b[38;5;241;43m=\u001b[39;49m\u001b[43mrows\u001b[49m\u001b[43m,\u001b[49m\u001b[43m \u001b[49m\u001b[38;5;241;43m*\u001b[39;49m\u001b[38;5;241;43m*\u001b[39;49m\u001b[43mkwargs\u001b[49m\n\u001b[1;32m    291\u001b[0m \u001b[43m    \u001b[49m\u001b[43m)\u001b[49m\n\u001b[1;32m    293\u001b[0m \u001b[38;5;28;01melse\u001b[39;00m:\n\u001b[1;32m    294\u001b[0m     \u001b[38;5;28;01mraise\u001b[39;00m \u001b[38;5;167;01mValueError\u001b[39;00m(\u001b[38;5;124mf\u001b[39m\u001b[38;5;124m\"\u001b[39m\u001b[38;5;124munknown engine \u001b[39m\u001b[38;5;124m'\u001b[39m\u001b[38;5;132;01m{\u001b[39;00mengine\u001b[38;5;132;01m}\u001b[39;00m\u001b[38;5;124m'\u001b[39m\u001b[38;5;124m\"\u001b[39m)\n",
      "File \u001b[0;32m~/Git_Repos/.conda/lib/python3.11/site-packages/geopandas/io/file.py:315\u001b[0m, in \u001b[0;36m_read_file_fiona\u001b[0;34m(path_or_bytes, from_bytes, bbox, mask, rows, where, **kwargs)\u001b[0m\n\u001b[1;32m    312\u001b[0m     reader \u001b[38;5;241m=\u001b[39m fiona\u001b[38;5;241m.\u001b[39mopen\n\u001b[1;32m    314\u001b[0m \u001b[38;5;28;01mwith\u001b[39;00m fiona_env():\n\u001b[0;32m--> 315\u001b[0m     \u001b[38;5;28;01mwith\u001b[39;00m \u001b[43mreader\u001b[49m\u001b[43m(\u001b[49m\u001b[43mpath_or_bytes\u001b[49m\u001b[43m,\u001b[49m\u001b[43m \u001b[49m\u001b[38;5;241;43m*\u001b[39;49m\u001b[38;5;241;43m*\u001b[39;49m\u001b[43mkwargs\u001b[49m\u001b[43m)\u001b[49m \u001b[38;5;28;01mas\u001b[39;00m features:\n\u001b[1;32m    316\u001b[0m         crs \u001b[38;5;241m=\u001b[39m features\u001b[38;5;241m.\u001b[39mcrs_wkt\n\u001b[1;32m    317\u001b[0m         \u001b[38;5;66;03m# attempt to get EPSG code\u001b[39;00m\n",
      "File \u001b[0;32m~/Git_Repos/.conda/lib/python3.11/site-packages/fiona/env.py:457\u001b[0m, in \u001b[0;36mensure_env_with_credentials.<locals>.wrapper\u001b[0;34m(*args, **kwds)\u001b[0m\n\u001b[1;32m    454\u001b[0m     session \u001b[38;5;241m=\u001b[39m DummySession()\n\u001b[1;32m    456\u001b[0m \u001b[38;5;28;01mwith\u001b[39;00m env_ctor(session\u001b[38;5;241m=\u001b[39msession):\n\u001b[0;32m--> 457\u001b[0m     \u001b[38;5;28;01mreturn\u001b[39;00m \u001b[43mf\u001b[49m\u001b[43m(\u001b[49m\u001b[38;5;241;43m*\u001b[39;49m\u001b[43margs\u001b[49m\u001b[43m,\u001b[49m\u001b[43m \u001b[49m\u001b[38;5;241;43m*\u001b[39;49m\u001b[38;5;241;43m*\u001b[39;49m\u001b[43mkwds\u001b[49m\u001b[43m)\u001b[49m\n",
      "File \u001b[0;32m~/Git_Repos/.conda/lib/python3.11/site-packages/fiona/__init__.py:292\u001b[0m, in \u001b[0;36mopen\u001b[0;34m(fp, mode, driver, schema, crs, encoding, layer, vfs, enabled_drivers, crs_wkt, allow_unsupported_drivers, **kwargs)\u001b[0m\n\u001b[1;32m    289\u001b[0m     path \u001b[38;5;241m=\u001b[39m parse_path(fp)\n\u001b[1;32m    291\u001b[0m \u001b[38;5;28;01mif\u001b[39;00m mode \u001b[38;5;129;01min\u001b[39;00m (\u001b[38;5;124m\"\u001b[39m\u001b[38;5;124ma\u001b[39m\u001b[38;5;124m\"\u001b[39m, \u001b[38;5;124m\"\u001b[39m\u001b[38;5;124mr\u001b[39m\u001b[38;5;124m\"\u001b[39m):\n\u001b[0;32m--> 292\u001b[0m     colxn \u001b[38;5;241m=\u001b[39m \u001b[43mCollection\u001b[49m\u001b[43m(\u001b[49m\n\u001b[1;32m    293\u001b[0m \u001b[43m        \u001b[49m\u001b[43mpath\u001b[49m\u001b[43m,\u001b[49m\n\u001b[1;32m    294\u001b[0m \u001b[43m        \u001b[49m\u001b[43mmode\u001b[49m\u001b[43m,\u001b[49m\n\u001b[1;32m    295\u001b[0m \u001b[43m        \u001b[49m\u001b[43mdriver\u001b[49m\u001b[38;5;241;43m=\u001b[39;49m\u001b[43mdriver\u001b[49m\u001b[43m,\u001b[49m\n\u001b[1;32m    296\u001b[0m \u001b[43m        \u001b[49m\u001b[43mencoding\u001b[49m\u001b[38;5;241;43m=\u001b[39;49m\u001b[43mencoding\u001b[49m\u001b[43m,\u001b[49m\n\u001b[1;32m    297\u001b[0m \u001b[43m        \u001b[49m\u001b[43mlayer\u001b[49m\u001b[38;5;241;43m=\u001b[39;49m\u001b[43mlayer\u001b[49m\u001b[43m,\u001b[49m\n\u001b[1;32m    298\u001b[0m \u001b[43m        \u001b[49m\u001b[43menabled_drivers\u001b[49m\u001b[38;5;241;43m=\u001b[39;49m\u001b[43menabled_drivers\u001b[49m\u001b[43m,\u001b[49m\n\u001b[1;32m    299\u001b[0m \u001b[43m        \u001b[49m\u001b[43mallow_unsupported_drivers\u001b[49m\u001b[38;5;241;43m=\u001b[39;49m\u001b[43mallow_unsupported_drivers\u001b[49m\u001b[43m,\u001b[49m\n\u001b[1;32m    300\u001b[0m \u001b[43m        \u001b[49m\u001b[38;5;241;43m*\u001b[39;49m\u001b[38;5;241;43m*\u001b[39;49m\u001b[43mkwargs\u001b[49m\n\u001b[1;32m    301\u001b[0m \u001b[43m    \u001b[49m\u001b[43m)\u001b[49m\n\u001b[1;32m    302\u001b[0m \u001b[38;5;28;01melif\u001b[39;00m mode \u001b[38;5;241m==\u001b[39m \u001b[38;5;124m\"\u001b[39m\u001b[38;5;124mw\u001b[39m\u001b[38;5;124m\"\u001b[39m:\n\u001b[1;32m    303\u001b[0m     colxn \u001b[38;5;241m=\u001b[39m Collection(\n\u001b[1;32m    304\u001b[0m         path,\n\u001b[1;32m    305\u001b[0m         mode,\n\u001b[0;32m   (...)\u001b[0m\n\u001b[1;32m    314\u001b[0m         \u001b[38;5;241m*\u001b[39m\u001b[38;5;241m*\u001b[39mkwargs\n\u001b[1;32m    315\u001b[0m     )\n",
      "File \u001b[0;32m~/Git_Repos/.conda/lib/python3.11/site-packages/fiona/collection.py:243\u001b[0m, in \u001b[0;36mCollection.__init__\u001b[0;34m(self, path, mode, driver, schema, crs, encoding, layer, vsi, archive, enabled_drivers, crs_wkt, ignore_fields, ignore_geometry, include_fields, wkt_version, allow_unsupported_drivers, **kwargs)\u001b[0m\n\u001b[1;32m    241\u001b[0m \u001b[38;5;28;01mif\u001b[39;00m \u001b[38;5;28mself\u001b[39m\u001b[38;5;241m.\u001b[39mmode \u001b[38;5;241m==\u001b[39m \u001b[38;5;124m\"\u001b[39m\u001b[38;5;124mr\u001b[39m\u001b[38;5;124m\"\u001b[39m:\n\u001b[1;32m    242\u001b[0m     \u001b[38;5;28mself\u001b[39m\u001b[38;5;241m.\u001b[39msession \u001b[38;5;241m=\u001b[39m Session()\n\u001b[0;32m--> 243\u001b[0m     \u001b[38;5;28;43mself\u001b[39;49m\u001b[38;5;241;43m.\u001b[39;49m\u001b[43msession\u001b[49m\u001b[38;5;241;43m.\u001b[39;49m\u001b[43mstart\u001b[49m\u001b[43m(\u001b[49m\u001b[38;5;28;43mself\u001b[39;49m\u001b[43m,\u001b[49m\u001b[43m \u001b[49m\u001b[38;5;241;43m*\u001b[39;49m\u001b[38;5;241;43m*\u001b[39;49m\u001b[43mkwargs\u001b[49m\u001b[43m)\u001b[49m\n\u001b[1;32m    244\u001b[0m \u001b[38;5;28;01melif\u001b[39;00m \u001b[38;5;28mself\u001b[39m\u001b[38;5;241m.\u001b[39mmode \u001b[38;5;129;01min\u001b[39;00m (\u001b[38;5;124m\"\u001b[39m\u001b[38;5;124ma\u001b[39m\u001b[38;5;124m\"\u001b[39m, \u001b[38;5;124m\"\u001b[39m\u001b[38;5;124mw\u001b[39m\u001b[38;5;124m\"\u001b[39m):\n\u001b[1;32m    245\u001b[0m     \u001b[38;5;28mself\u001b[39m\u001b[38;5;241m.\u001b[39msession \u001b[38;5;241m=\u001b[39m WritingSession()\n",
      "File \u001b[0;32mfiona/ogrext.pyx:588\u001b[0m, in \u001b[0;36mfiona.ogrext.Session.start\u001b[0;34m()\u001b[0m\n",
      "File \u001b[0;32mfiona/ogrext.pyx:143\u001b[0m, in \u001b[0;36mfiona.ogrext.gdal_open_vector\u001b[0;34m()\u001b[0m\n",
      "\u001b[0;31mDriverError\u001b[0m: LoopDataConverter/test_data/NTGS_data/NAM_LithOutcrop_100K.shp: No such file or directory"
     ]
    }
   ],
   "source": [
    "input_data = InputData(GEOLOGY=\"LoopDataConverter/test_data/NTGS_data/NAM_LithOutcrop_100K.shp\", \n",
    "                       STRUCTURE=\"test_data/NTGS_data/NAM_StructData_100K.shp\",\n",
    "                       FAULT=\"test_data/NTGS_data/NAM_Fault_100K.shp\",\n",
    "                       FOLD=\"test_data/NTGS_data/NAM_Fold_100K.shp\")\n",
    "\n",
    "loop_converter = LoopConverter(survey_name=SurveyName.NTGS,\n",
    "                               data=input_data)\n",
    "loop_converter.convert()"
   ]
  },
  {
   "cell_type": "code",
   "execution_count": 3,
   "id": "e23567522e7fffd3",
   "metadata": {
    "ExecuteTime": {
     "end_time": "2024-08-14T01:53:50.268977Z",
     "start_time": "2024-08-14T01:53:50.261538Z"
    },
    "collapsed": false
   },
   "outputs": [],
   "source": [
    "import elevation"
   ]
  },
  {
   "cell_type": "code",
   "execution_count": 4,
   "id": "8ab681a612c3ccd3",
   "metadata": {
    "ExecuteTime": {
     "end_time": "2024-08-14T01:53:51.486365Z",
     "start_time": "2024-08-14T01:53:51.357785Z"
    },
    "collapsed": false
   },
   "outputs": [
    {
     "name": "stdout",
     "output_type": "stream",
     "text": [
      "make: Entering directory '/home/rabii/.cache/elevation/SRTM1'\n",
      "make: Nothing to be done for 'download'.\n",
      "make: Leaving directory '/home/rabii/.cache/elevation/SRTM1'\n",
      "make: Entering directory '/home/rabii/.cache/elevation/SRTM1'\n",
      "gdalbuildvrt -q -overwrite SRTM1.vrt \n",
      "Usage: gdalbuildvrt [-tileindex field_name]\n",
      "                    [-resolution {highest|lowest|average|user}]\n",
      "                    [-te xmin ymin xmax ymax] [-tr xres yres] [-tap]\n",
      "                    [-separate] [-b band]* [-sd subdataset]\n",
      "                    [-allow_projection_difference] [-q]\n",
      "                    [-addalpha] [-hidenodata]\n",
      "                    [-srcnodata \"value [value...]\"] [-vrtnodata \"value [value...]\"] \n",
      "                    [-ignore_srcmaskband]\n",
      "                    [-a_srs srs_def]\n",
      "                    [-r {nearest,bilinear,cubic,cubicspline,lanczos,average,mode}]\n",
      "                    [-oo NAME=VALUE]*\n",
      "                    [-input_file_list my_list.txt] [-overwrite]\n",
      "                    [-strict | -non_strict]\n",
      "                    output.vrt [gdalfile]*\n",
      "\n",
      "e.g.\n",
      "  % gdalbuildvrt doq_index.vrt doq/*.tif\n",
      "  % gdalbuildvrt -input_file_list my_list.txt doq_index.vrt\n",
      "\n",
      "NOTES:\n",
      "  o With -separate, each files goes into a separate band in the VRT band.\n",
      "    Otherwise, the files are considered as tiles of a larger mosaic.\n",
      "  o -b option selects a band to add into vrt.  Multiple bands can be listed.\n",
      "    By default all bands are queried.\n",
      "  o The default tile index field is 'location' unless otherwise specified by\n",
      "    -tileindex.\n",
      "  o In case the resolution of all input files is not the same, the -resolution\n",
      "    flag enable the user to control the way the output resolution is computed.\n",
      "    Average is the default.\n",
      "  o Input files may be any valid GDAL dataset or a GDAL raster tile index.\n",
      "  o For a GDAL raster tile index, all entries will be added to the VRT.\n",
      "  o If one GDAL dataset is made of several subdatasets and has 0 raster bands,\n",
      "    its datasets will be added to the VRT rather than the dataset itself.\n",
      "    Single subdataset could be selected by its number using the -sd option.\n",
      "  o By default, only datasets of same projection and band characteristics\n",
      "    may be added to the VRT.\n",
      "make: Leaving directory '/home/rabii/.cache/elevation/SRTM1'\n"
     ]
    },
    {
     "name": "stderr",
     "output_type": "stream",
     "text": [
      "ERROR 1: No input dataset specified.\n",
      "make: *** [Makefile:14: SRTM1.vrt] Error 1\n"
     ]
    },
    {
     "ename": "CalledProcessError",
     "evalue": "Command 'make -C /home/rabii/.cache/elevation/SRTM1 all ' returned non-zero exit status 2.",
     "output_type": "error",
     "traceback": [
      "\u001b[0;31m---------------------------------------------------------------------------\u001b[0m",
      "\u001b[0;31mCalledProcessError\u001b[0m                        Traceback (most recent call last)",
      "Cell \u001b[0;32mIn[4], line 2\u001b[0m\n\u001b[1;32m      1\u001b[0m _path \u001b[38;5;241m=\u001b[39m \u001b[38;5;124m\"\u001b[39m\u001b[38;5;124m/home/rabii/Git_Repos/LoopDataConverter/test_data/NTGS_data/DEM.tif\u001b[39m\u001b[38;5;124m\"\u001b[39m\n\u001b[0;32m----> 2\u001b[0m \u001b[43melevation\u001b[49m\u001b[38;5;241;43m.\u001b[39;49m\u001b[43mclip\u001b[49m\u001b[43m(\u001b[49m\u001b[43mbounds\u001b[49m\u001b[38;5;241;43m=\u001b[39;49m\u001b[43m(\u001b[49m\u001b[43mxmin\u001b[49m\u001b[43m,\u001b[49m\u001b[43m \u001b[49m\u001b[43mymin\u001b[49m\u001b[43m,\u001b[49m\u001b[43m \u001b[49m\u001b[43mxmax\u001b[49m\u001b[43m,\u001b[49m\u001b[43m \u001b[49m\u001b[43mymax\u001b[49m\u001b[43m)\u001b[49m\u001b[43m,\u001b[49m\u001b[43m \u001b[49m\u001b[43moutput\u001b[49m\u001b[38;5;241;43m=\u001b[39;49m\u001b[43m_path\u001b[49m\u001b[43m)\u001b[49m\n",
      "File \u001b[0;32m~/Git_Repos/.conda/lib/python3.11/site-packages/elevation/datasource.py:216\u001b[0m, in \u001b[0;36mclip\u001b[0;34m(bounds, output, margin, **kwargs)\u001b[0m\n\u001b[1;32m    207\u001b[0m \u001b[38;5;250m\u001b[39m\u001b[38;5;124;03m\"\"\"Clip the DEM to given bounds.\u001b[39;00m\n\u001b[1;32m    208\u001b[0m \n\u001b[1;32m    209\u001b[0m \u001b[38;5;124;03m:param bounds: Output bounds in 'left bottom right top' order.\u001b[39;00m\n\u001b[0;32m   (...)\u001b[0m\n\u001b[1;32m    213\u001b[0m \u001b[38;5;124;03m:param product: DEM product choice.\u001b[39;00m\n\u001b[1;32m    214\u001b[0m \u001b[38;5;124;03m\"\"\"\u001b[39;00m\n\u001b[1;32m    215\u001b[0m bounds \u001b[38;5;241m=\u001b[39m build_bounds(bounds, margin\u001b[38;5;241m=\u001b[39mmargin)\n\u001b[0;32m--> 216\u001b[0m datasource_root \u001b[38;5;241m=\u001b[39m \u001b[43mseed\u001b[49m\u001b[43m(\u001b[49m\u001b[43mbounds\u001b[49m\u001b[38;5;241;43m=\u001b[39;49m\u001b[43mbounds\u001b[49m\u001b[43m,\u001b[49m\u001b[43m \u001b[49m\u001b[38;5;241;43m*\u001b[39;49m\u001b[38;5;241;43m*\u001b[39;49m\u001b[43mkwargs\u001b[49m\u001b[43m)\u001b[49m\n\u001b[1;32m    217\u001b[0m do_clip(datasource_root, bounds, output, \u001b[38;5;241m*\u001b[39m\u001b[38;5;241m*\u001b[39mkwargs)\n",
      "File \u001b[0;32m~/Git_Repos/.conda/lib/python3.11/site-packages/elevation/datasource.py:191\u001b[0m, in \u001b[0;36mseed\u001b[0;34m(cache_dir, product, bounds, max_download_tiles, **kwargs)\u001b[0m\n\u001b[1;32m    188\u001b[0m     ensure_tiles(datasource_root, ensure_tiles_names, \u001b[38;5;241m*\u001b[39m\u001b[38;5;241m*\u001b[39mkwargs)\n\u001b[1;32m    190\u001b[0m \u001b[38;5;28;01mwith\u001b[39;00m util\u001b[38;5;241m.\u001b[39mlock_vrt(datasource_root, product):\n\u001b[0;32m--> 191\u001b[0m     \u001b[43mutil\u001b[49m\u001b[38;5;241;43m.\u001b[39;49m\u001b[43mcheck_call_make\u001b[49m\u001b[43m(\u001b[49m\u001b[43mdatasource_root\u001b[49m\u001b[43m,\u001b[49m\u001b[43m \u001b[49m\u001b[43mtargets\u001b[49m\u001b[38;5;241;43m=\u001b[39;49m\u001b[43m[\u001b[49m\u001b[38;5;124;43m'\u001b[39;49m\u001b[38;5;124;43mall\u001b[39;49m\u001b[38;5;124;43m'\u001b[39;49m\u001b[43m]\u001b[49m\u001b[43m)\u001b[49m\n\u001b[1;32m    192\u001b[0m \u001b[38;5;28;01mreturn\u001b[39;00m datasource_root\n",
      "File \u001b[0;32m~/Git_Repos/.conda/lib/python3.11/site-packages/elevation/util.py:88\u001b[0m, in \u001b[0;36mcheck_call_make\u001b[0;34m(path, targets, variables)\u001b[0m\n\u001b[1;32m     86\u001b[0m make_variables \u001b[38;5;241m=\u001b[39m \u001b[38;5;124m'\u001b[39m\u001b[38;5;124m \u001b[39m\u001b[38;5;124m'\u001b[39m\u001b[38;5;241m.\u001b[39mjoin(\u001b[38;5;124m'\u001b[39m\u001b[38;5;132;01m%s\u001b[39;00m\u001b[38;5;124m=\u001b[39m\u001b[38;5;124m\"\u001b[39m\u001b[38;5;132;01m%s\u001b[39;00m\u001b[38;5;124m\"\u001b[39m\u001b[38;5;124m'\u001b[39m \u001b[38;5;241m%\u001b[39m (k\u001b[38;5;241m.\u001b[39mupper(), v) \u001b[38;5;28;01mfor\u001b[39;00m k, v \u001b[38;5;129;01min\u001b[39;00m variables_items)\n\u001b[1;32m     87\u001b[0m cmd \u001b[38;5;241m=\u001b[39m \u001b[38;5;124m'\u001b[39m\u001b[38;5;124mmake -C \u001b[39m\u001b[38;5;132;01m{path}\u001b[39;00m\u001b[38;5;124m \u001b[39m\u001b[38;5;132;01m{make_targets}\u001b[39;00m\u001b[38;5;124m \u001b[39m\u001b[38;5;132;01m{make_variables}\u001b[39;00m\u001b[38;5;124m'\u001b[39m\u001b[38;5;241m.\u001b[39mformat(\u001b[38;5;241m*\u001b[39m\u001b[38;5;241m*\u001b[39m\u001b[38;5;28mlocals\u001b[39m())\n\u001b[0;32m---> 88\u001b[0m \u001b[43msubprocess\u001b[49m\u001b[38;5;241;43m.\u001b[39;49m\u001b[43mcheck_call\u001b[49m\u001b[43m(\u001b[49m\u001b[43mcmd\u001b[49m\u001b[43m,\u001b[49m\u001b[43m \u001b[49m\u001b[43mshell\u001b[49m\u001b[38;5;241;43m=\u001b[39;49m\u001b[38;5;28;43;01mTrue\u001b[39;49;00m\u001b[43m)\u001b[49m\n\u001b[1;32m     89\u001b[0m \u001b[38;5;28;01mreturn\u001b[39;00m cmd\n",
      "File \u001b[0;32m~/Git_Repos/.conda/lib/python3.11/subprocess.py:413\u001b[0m, in \u001b[0;36mcheck_call\u001b[0;34m(*popenargs, **kwargs)\u001b[0m\n\u001b[1;32m    411\u001b[0m     \u001b[38;5;28;01mif\u001b[39;00m cmd \u001b[38;5;129;01mis\u001b[39;00m \u001b[38;5;28;01mNone\u001b[39;00m:\n\u001b[1;32m    412\u001b[0m         cmd \u001b[38;5;241m=\u001b[39m popenargs[\u001b[38;5;241m0\u001b[39m]\n\u001b[0;32m--> 413\u001b[0m     \u001b[38;5;28;01mraise\u001b[39;00m CalledProcessError(retcode, cmd)\n\u001b[1;32m    414\u001b[0m \u001b[38;5;28;01mreturn\u001b[39;00m \u001b[38;5;241m0\u001b[39m\n",
      "\u001b[0;31mCalledProcessError\u001b[0m: Command 'make -C /home/rabii/.cache/elevation/SRTM1 all ' returned non-zero exit status 2."
     ]
    }
   ],
   "source": [
    "_path = \"/home/rabii/Git_Repos/LoopDataConverter/test_data/NTGS_data/DEM.tif\"\n",
    "elevation.clip(bounds=(xmin, ymin, xmax, ymax), output=_path)\n"
   ]
  },
  {
   "cell_type": "code",
   "id": "97c6db28d6534a3",
   "metadata": {
    "collapsed": false
   },
   "outputs": [],
   "source": []
  }
 ],
 "metadata": {
  "kernelspec": {
   "display_name": "Python 3",
   "language": "python",
   "name": "python3"
  },
  "language_info": {
   "codemirror_mode": {
    "name": "ipython",
    "version": 2
   },
   "file_extension": ".py",
   "mimetype": "text/x-python",
   "name": "python",
   "nbconvert_exporter": "python",
   "pygments_lexer": "ipython2",
   "version": "2.7.6"
  }
 },
 "nbformat": 4,
 "nbformat_minor": 5
}
