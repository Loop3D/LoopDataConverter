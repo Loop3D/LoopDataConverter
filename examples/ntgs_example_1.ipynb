{
 "cells": [
  {
   "cell_type": "code",
   "execution_count": null,
   "id": "initial_id",
   "metadata": {
    "ExecuteTime": {
     "end_time": "2024-09-16T05:43:40.858722Z",
     "start_time": "2024-09-16T05:43:40.302437Z"
    },
    "collapsed": true
   },
   "outputs": [],
   "source": [
    "from LoopDataConverter import LoopConverter, InputData, SurveyName, Datatype, NtgsConfig\n",
    "from osgeo import gdal, osr\n",
    "import os \n",
    "from map2loop import Project#, logging\n",
    "import map2loop\n",
    "import tempfile\n",
    "# logging.set_level('debug')"
   ]
  },
  {
   "cell_type": "code",
   "execution_count": null,
   "id": "eec0e1145cd2b0c6",
   "metadata": {
    "ExecuteTime": {
     "end_time": "2024-08-26T04:27:18.004378Z",
     "start_time": "2024-08-26T04:27:18.000708Z"
    },
    "collapsed": false
   },
   "outputs": [],
   "source": [
    "def create_raster(output_path, bbox, epsg, pixel_size, value=100):\n",
    "    minx, miny, maxx, maxy = bbox\n",
    "    cols = int((maxx - minx) / pixel_size)\n",
    "    rows = int((maxy - miny) / pixel_size)\n",
    "    driver = gdal.GetDriverByName('GTiff')\n",
    "    out_raster = driver.Create(output_path, cols, rows, 1, gdal.GDT_Byte)\n",
    "    out_raster.SetGeoTransform([minx, pixel_size, 0, maxy, 0, -pixel_size])\n",
    "    srs = osr.SpatialReference()\n",
    "    srs.ImportFromEPSG(epsg)\n",
    "    out_raster.SetProjection(srs.ExportToWkt())\n",
    "    out_band = out_raster.GetRasterBand(1)\n",
    "    out_band.Fill(value)\n",
    "    out_band.FlushCache()\n",
    "    out_raster = None"
   ]
  },
  {
   "cell_type": "code",
   "execution_count": null,
   "id": "c100ae76",
   "metadata": {},
   "outputs": [],
   "source": [
    "xmin, ymax = 194970,7342378\n",
    "xmax, ymin = 348104,7306552\n",
    "zmin, zmax = -3000, 3000\n",
    "bounding_box = {\n",
    "    \"minx\": xmin,\n",
    "    \"miny\": ymin,\n",
    "    \"maxx\": xmax,\n",
    "    \"maxy\": ymax,\n",
    "    \"base\": zmin,\n",
    "    \"top\": zmax,\n",
    "}\n",
    "f_path = \"/home/rabii/Git_Repos/LoopDataConverter/test_data/NTGS_data/Henbury\"\n",
    "create_raster(\n",
    "    os.path.join(f_path, \"DEM.tif\"),\n",
    "    (bounding_box['minx'], bounding_box['miny'], bounding_box['maxx'], bounding_box['maxy']),\n",
    "    7854,\n",
    "    1000,\n",
    ")"
   ]
  },
  {
   "cell_type": "code",
   "execution_count": null,
   "id": "2cefe141abea8187",
   "metadata": {
    "ExecuteTime": {
     "end_time": "2024-09-16T05:43:43.673760Z",
     "start_time": "2024-09-16T05:43:43.562794Z"
    },
    "collapsed": false
   },
   "outputs": [],
   "source": [
    "input_data = InputData(\n",
    "    GEOLOGY=\"../test_data/NTGS_data/Henbury/HB_LithOutcrop_250K.shp\", \n",
    "    STRUCTURE=\"../test_data/NTGS_data/Henbury/HB_StructData_250K.shp\",\n",
    "    FAULT=\"../test_data/NTGS_data/Henbury/HB_Fault_250K.shp\",\n",
    "    FOLD=\"../test_data/NTGS_data/Henbury/HB_Fold_250K.shp\"\n",
    ")\n",
    "\n",
    "loop_converter = LoopConverter(survey_name=SurveyName.NTGS,\n",
    "                               data=input_data)\n",
    "loop_converter.convert()"
   ]
  },
  {
   "cell_type": "code",
   "execution_count": null,
   "id": "3906a301321a986c",
   "metadata": {
    "ExecuteTime": {
     "end_time": "2024-09-16T05:43:44.982563Z",
     "start_time": "2024-09-16T05:43:44.965812Z"
    },
    "collapsed": false
   },
   "outputs": [],
   "source": [
    "import numpy\n",
    "loop_converter.data[Datatype.FAULT].loc[loop_converter.data[Datatype.FAULT][\"Dip\"] == 45]"
   ]
  },
  {
   "cell_type": "code",
   "execution_count": null,
   "id": "826effa7a96f801f",
   "metadata": {
    "ExecuteTime": {
     "end_time": "2024-09-16T05:43:50.453376Z",
     "start_time": "2024-09-16T05:43:50.400403Z"
    }
   },
   "outputs": [],
   "source": [
    "path = tempfile.mkdtemp()\n",
    "loop_converter.save(Datatype.GEOLOGY, os.path.join(path, \"geology.shp\"), file_extension=\"shp\")\n",
    "loop_converter.save(Datatype.STRUCTURE, os.path.join(path, \"structures.shp\"), file_extension=\"shp\")\n",
    "loop_converter.save(Datatype.FOLD, os.path.join(path, \"folds.shp\"), file_extension=\"shp\")\n",
    "loop_converter.save(Datatype.FAULT, os.path.join(path, \"faults.shp\"), file_extension=\"shp\")"
   ]
  },
  {
   "cell_type": "code",
   "execution_count": null,
   "id": "bf332c206256fae6",
   "metadata": {
    "ExecuteTime": {
     "end_time": "2024-09-16T05:49:13.925502Z",
     "start_time": "2024-09-16T05:49:12.424661Z"
    }
   },
   "outputs": [],
   "source": [
    "import os\n",
    "from map2loop.project import Project\n",
    "from map2loop.m2l_enums import VerboseLevel\n",
    "from map2loop.m2l_enums import Datatype\n",
    "from map2loop.sampler import SamplerSpacing, SamplerDecimator\n",
    "from map2loop.sorter import SorterUseHint, SorterUseNetworkX, SorterAgeBased, SorterAlpha\n",
    "from map2loop.thickness_calculator import InterpolatedStructure, StructuralPoint\n",
    "import time\n",
    "from datetime import datetime\n",
    "nowtime=datetime.now().isoformat(timespec='minutes')\n",
    "model_name=nowtime.replace(\":\",\"-\").replace(\"T\",\"-\")\n",
    "loop_project_filename = os.path.join(model_name, \"HB_map.loop3d\")\n",
    "\n",
    "t0 = time.time()\n",
    "\n",
    "ntgs_config = NtgsConfig()\n",
    "config = ntgs_config.config_map\n",
    "# Specify the boundary of the region of interest in the appropriate projection coordinates\n",
    "xmin, ymax = 194970,7342378\n",
    "xmax, ymin = 348104,7306552\n",
    "zmin, zmax = -3000, 3000\n",
    "bounding_box = {\n",
    "    \"minx\": xmin,\n",
    "    \"miny\": ymin,\n",
    "    \"maxx\": xmax,\n",
    "    \"maxy\": ymax,\n",
    "    \"base\": zmin,\n",
    "    \"top\": zmax,\n",
    "}\n",
    "# Initialise the project with the shapefiles, dtm, config file\n",
    "# output locations and projection to work in\n",
    "proj = Project(\n",
    "    geology_filename = os.path.join(path, \"geology.shp\"),\n",
    "    # fault_filename = os.path.join(path, \"faults.shp\"),\n",
    "    structure_filename = os.path.join(path, \"structures.shp\"),\n",
    "    fold_filename= os.path.join(path, \"folds.shp\"),\n",
    "    dtm_filename = \"../test_data/NTGS_data/Henbury/DEM.tif\",\n",
    "    config_dictionary= config,\n",
    "    clut_filename = '../test_data/NTGS_data/500kibg_colours.csv',\n",
    "    clut_file_legacy = True,\n",
    "    verbose_level = VerboseLevel.NONE,\n",
    "    tmp_path = model_name,\n",
    "    working_projection = \"EPSG:28353\",\n",
    "    bounding_box = bounding_box,\n",
    "    loop_project_filename = loop_project_filename,\n",
    "    overwrite_loopprojectfile = True\n",
    ")\n",
    "\n",
    "# Remove faults less than 5km\n",
    "proj.set_minimum_fault_length(1000.0)\n",
    "\n",
    "# Set sampling distance for geology and fault maps to 200m\n",
    "proj.set_sampler(Datatype.GEOLOGY, SamplerSpacing(200.0))\n",
    "proj.set_sampler(Datatype.FAULT, SamplerSpacing(1000.0))\n",
    "\n",
    "# Set to only take every second orientation observation (0 or 1 means take all observations)\n",
    "proj.set_sampler(Datatype.STRUCTURE, SamplerDecimator(2))\n",
    "\n",
    "# Set what text is expected for intrusions (contained within the description field)\n",
    "# proj.map_data.config.geology_config[\"intrusive_text\"] = \"mafic intrusive\"\n",
    "\n",
    "# Set specific layers from the geology map to be ignored (commonly \"cover\" or \"water\")\n",
    "# proj.set_ignore_codes([\"cover\", \"Fortescue_Group\", \"A_FO_od\"])\n",
    "\n",
    "proj.set_thickness_calculator(InterpolatedStructure())\n",
    "# Specify which stratigraphic columns sorter to use, other options are\n",
    "# (SorterAlpha, SorterAgeBased, SorterUseHint, SorterUseNetworkX, SorterMaximiseContacts, SorterObservationProjections)\n",
    "proj.set_sorter(SorterAlpha())\n",
    "\n",
    "# Or you can run map2loop and pre-specify the stratigraphic column\n",
    "# column = [\n",
    "#     # youngest\n",
    "#     'No_formal_name',\n",
    "#     'Chandler_Limestone',\n",
    "#     'Arumbera_Sandstone',\n",
    "#     'Pertatataka_Formation',\n",
    "#     'Waldo_Pedlar_Formation',\n",
    "#     'Aralka_Formation',\n",
    "#     'Areyonga_Formation',\n",
    "#     'Bitter_Springs_Formation'\n",
    "#     # oldest\n",
    "# ]\n",
    "\n",
    "# proj.run_all(user_defined_stratigraphic_column=column)\n",
    "# Or you can get map2loop to run all column sorting algorithms it has and takes the one\n",
    "# that has the longest total basal contact length\n",
    "#proj.run_all(take_best=True)\n",
    "proj.run_all()\n",
    "\n",
    "t1 = time.time()"
   ]
  },
  {
   "cell_type": "code",
   "execution_count": null,
   "id": "ff57608c97e4e81e",
   "metadata": {
    "ExecuteTime": {
     "end_time": "2024-09-16T05:49:14.302377Z",
     "start_time": "2024-09-16T05:49:14.295627Z"
    }
   },
   "outputs": [],
   "source": [
    "proj.stratigraphic_column.stratigraphicUnits"
   ]
  },
  {
   "cell_type": "code",
   "execution_count": null,
   "id": "16138f2adab35552",
   "metadata": {
    "ExecuteTime": {
     "end_time": "2024-09-16T05:55:52.266719Z",
     "start_time": "2024-09-16T05:55:52.042873Z"
    }
   },
   "outputs": [],
   "source": [
    "import LoopProjectFile as LPF\n",
    "from loopstructuralvisualisation import Loop3DView\n",
    "from LoopStructural.modelling.input.project_file import LoopProjectfileProcessor as LPFProcessor\n",
    "import LoopStructural\n",
    "import numpy as np\n",
    "from scipy.interpolate import RegularGridInterpolator\n",
    "from osgeo import gdal\n",
    "import pandas as pd\n",
    "\n",
    "t2 = time.time()\n",
    "\n",
    "LPFilename = loop_project_filename\n",
    "fault_params = {\n",
    "    'interpolatortype':'FDI',\n",
    "    'nelements':1e4,\n",
    "}\n",
    "foliation_params = {\n",
    "    'interpolatortype':'FDI' , # 'interpolatortype':'PLI',\n",
    "    'nelements':1e5,  # how many tetras/voxels\n",
    "    'regularisation':5,\n",
    "}\n",
    "\n",
    "projFile = LPF.ProjectFile(LPFilename)\n",
    "processedData = LPFProcessor(projFile)\n",
    "processedData.foliation_properties['sg'] = foliation_params\n",
    "# processedData.fault_properties['interpolatortype'] = fault_params['interpolatortype']\n",
    "# processedData.fault_properties['nelements'] = fault_params['nelements']\n",
    "\n",
    "model = LoopStructural.GeologicalModel.from_processor(processedData)\n",
    "# model.nsteps=np.array([200,200,50])\n",
    "model.update()\n",
    "\n",
    "# clip_on_dtm=True\n",
    "# if(clip_on_dtm):\n",
    "#     bounding_box = proj.map_data.get_bounding_box()\n",
    "#     model_base = bounding_box['base']\n",
    "#     model_top = bounding_box['top']\n",
    "#     dtm = gdal.Open('./source_data/dtm_rp.tif')\n",
    "#     dtm_val = dtm.GetRasterBand(1).ReadAsArray().T\n",
    "#     geoTrans = dtm.GetGeoTransform()\n",
    "#     minx = geoTrans[0]\n",
    "#     maxx = minx + dtm.RasterXSize * geoTrans[1]\n",
    "#     miny = geoTrans[3]\n",
    "#     maxy = miny + dtm.RasterYSize * geoTrans[5]\n",
    "# \n",
    "#     # Convert bounds to gdal raster bounds\n",
    "#     x = np.linspace(minx,maxx,dtm.RasterXSize)\n",
    "#     y = np.linspace(miny,maxy,dtm.RasterYSize)\n",
    "#     dtm_interpolator = RegularGridInterpolator((x,y),dtm_val)\n",
    "#     model.dtm = lambda xyz : dtm_interpolator(xyz[:,:2])\n",
    "\n",
    "vtk_path = os.path.join(model_name,'vtk')\n",
    "if not os.path.exists(vtk_path):\n",
    "    os.mkdir(vtk_path)\n",
    "filename = os.path.join(model_name,'vtk','surface_name_{}.vtk')\n",
    "view = Loop3DView(model)\n",
    "view.nsteps=np.array([500,500,50])\n",
    "for sg in model.feature_name_index:\n",
    "    if( 'super' in sg):\n",
    "        view.add_data(model.features[model.feature_name_index[sg]])\n",
    "view.nelements = 1e5\n",
    "view.add_model_surfaces(filename=filename,faults=False)\n",
    "view.nelements=1e6\n",
    "view.add_model_surfaces(filename=filename,strati=False,displacement_cmap = 'rainbow')\n",
    "view.lv.webgl(vtk_path+model_name)\n",
    "view.nsteps = np.array([500,500,50])\n",
    "if(clip_on_dtm):\n",
    "    colours = list(pd.DataFrame(data=proj.stratigraphic_column.column,columns=[\"name\"]).merge(proj.stratigraphic_column.stratigraphicUnits[[\"name\",\"colour\"]], on=\"name\")[\"colour\"])\n",
    "    colours.reverse()\n",
    "    view.add_dtm(paint_with=lambda xyz: model.evaluate_model(xyz,scale=False), cmap=colours)\n",
    "view.add_model()\n",
    "\n",
    "# view.lv.control.Range('alpha', label=\"Global Opacity\")\n",
    "# view.lv.control.DualRange(['xmin', 'xmax'], label=\"x clip\", step=0.01, values=[0.0,1.0])\n",
    "# view.lv.control.DualRange(['ymin', 'ymax'], label=\"y clip\", step=0.01, values=[0.0,1.0])\n",
    "# view.lv.control.DualRange(['zmin', 'zmax'], label=\"z clip\", step=0.01, values=[0.0,1.0])\n",
    "# view.lv.control.Range(command='background', range=(0,1), step=0.1, value=0.8)\n",
    "# view.lv.control.show() #Show the control panel, including the viewer window\n",
    "# view.interactive()\n",
    "\n",
    "t3 = time.time()"
   ]
  },
  {
   "cell_type": "code",
   "execution_count": null,
   "id": "f71e73ab080121a8",
   "metadata": {
    "ExecuteTime": {
     "end_time": "2024-08-28T05:37:13.131517Z",
     "start_time": "2024-08-28T05:37:13.126426Z"
    }
   },
   "outputs": [],
   "source": []
  },
  {
   "cell_type": "code",
   "execution_count": null,
   "id": "8f6b6f723d02d4f6",
   "metadata": {
    "ExecuteTime": {
     "end_time": "2024-08-28T05:39:50.693156Z",
     "start_time": "2024-08-28T05:39:50.689878Z"
    }
   },
   "outputs": [],
   "source": []
  },
  {
   "cell_type": "code",
   "execution_count": null,
   "id": "7f658c3a17873e2d",
   "metadata": {},
   "outputs": [],
   "source": []
  }
 ],
 "metadata": {
  "kernelspec": {
   "display_name": "m2l_pypi",
   "language": "python",
   "name": "python3"
  },
  "language_info": {
   "codemirror_mode": {
    "name": "ipython",
    "version": 3
   },
   "file_extension": ".py",
   "mimetype": "text/x-python",
   "name": "python",
   "nbconvert_exporter": "python",
   "pygments_lexer": "ipython3",
   "version": "3.11.0rc1"
  }
 },
 "nbformat": 4,
 "nbformat_minor": 5
}
